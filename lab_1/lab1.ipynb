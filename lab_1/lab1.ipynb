{
 "cells": [
  {
   "cell_type": "markdown",
   "metadata": {},
   "source": [
    "Import potrzebnych bibliotek:"
   ]
  },
  {
   "cell_type": "code",
   "execution_count": null,
   "metadata": {},
   "outputs": [],
   "source": [
    "import numpy as np\n",
    "import matplotlib.pyplot as plt\n",
    "import pandas as pd"
   ]
  },
  {
   "cell_type": "markdown",
   "metadata": {},
   "source": [
    "Import danych:"
   ]
  },
  {
   "cell_type": "code",
   "execution_count": null,
   "metadata": {},
   "outputs": [],
   "source": [
    "from sklearn.datasets import load_iris\n",
    "# load the famous iris data\n",
    "irisRaw = load_iris()"
   ]
  },
  {
   "cell_type": "markdown",
   "metadata": {},
   "source": [
    "Konwersja do pakietu Pandas:"
   ]
  },
  {
   "cell_type": "code",
   "execution_count": null,
   "metadata": {},
   "outputs": [],
   "source": [
    "iris = pd.DataFrame(data= np.c_[irisRaw['data'], irisRaw['target']],\n",
    "                     columns= irisRaw['feature_names'] + ['target'])"
   ]
  },
  {
   "cell_type": "markdown",
   "metadata": {},
   "source": [
    "Zad.1 Wyświetl dane i zapoznaj się z ich strukturą.\n",
    "\n",
    "Zad.2 Sprawdź liczbę wierszy oraz kolumn w zbiorze danych."
   ]
  },
  {
   "cell_type": "code",
   "execution_count": null,
   "metadata": {},
   "outputs": [],
   "source": [
    "display(iris)"
   ]
  },
  {
   "cell_type": "markdown",
   "metadata": {},
   "source": [
    "Zad.3 Wyświetl podstawowe statystyki opisowe dla każdej kolumny, korzystając z metody describe()"
   ]
  },
  {
   "cell_type": "code",
   "execution_count": null,
   "metadata": {},
   "outputs": [],
   "source": [
    "iris.describe()"
   ]
  },
  {
   "cell_type": "markdown",
   "metadata": {},
   "source": [
    "Zad.4 Przeanalizuj działanie metody groupby() na dostępnych danych."
   ]
  },
  {
   "cell_type": "code",
   "execution_count": null,
   "metadata": {},
   "outputs": [],
   "source": [
    "iris.groupby(\"sepal width (cm)\").mean()"
   ]
  },
  {
   "cell_type": "markdown",
   "metadata": {},
   "source": [
    "Zad.5 Wyświetl pierwsze 5 wierszy zbioru, korzystając z metody head()"
   ]
  },
  {
   "cell_type": "code",
   "execution_count": null,
   "metadata": {},
   "outputs": [],
   "source": [
    "iris.head(5)"
   ]
  },
  {
   "cell_type": "markdown",
   "metadata": {},
   "source": [
    "Zad.6 Sprawdź, czy w zbiorze występują brakujące dane, używając metody dropna()."
   ]
  },
  {
   "cell_type": "code",
   "execution_count": null,
   "metadata": {},
   "outputs": [],
   "source": [
    "hasNan = len(iris) == len(iris.dropna())\n",
    "print(\"Data frame has NaN values: \", hasNan)"
   ]
  },
  {
   "cell_type": "markdown",
   "metadata": {},
   "source": [
    "Zad.7 Posortuj dane rosnąco względem drugiej kolumny, używając sort_values()."
   ]
  },
  {
   "cell_type": "code",
   "execution_count": null,
   "metadata": {},
   "outputs": [],
   "source": [
    "iris.sort_values(\"sepal length (cm)\")"
   ]
  },
  {
   "cell_type": "markdown",
   "metadata": {},
   "source": [
    "Zad.8 Znajdź minimalną i maksymalną wartość długości płatka (petal length - kolumna 3) oraz indeksy tych wartości (min(), idxmin())."
   ]
  },
  {
   "cell_type": "code",
   "execution_count": null,
   "metadata": {},
   "outputs": [],
   "source": [
    "min_value = iris['petal length (cm)'].min()\n",
    "max_value = iris['petal length (cm)'].max()\n",
    "\n",
    "min_idx = iris['petal length (cm)'].idxmin()\n",
    "max_idx = iris['petal length (cm)'].idxmax()\n",
    "\n",
    "\n",
    "print(\"Min value: \", min_value, 'Max value: ', max_value, 'Min value idx: ', min_idx, 'Max value idx', max_idx)\n"
   ]
  },
  {
   "cell_type": "markdown",
   "metadata": {},
   "source": [
    "Zad.9 Oblicz odchylenie standardowe (std) dla każdej kolumny."
   ]
  },
  {
   "cell_type": "code",
   "execution_count": null,
   "metadata": {},
   "outputs": [],
   "source": [
    "iris.std()"
   ]
  },
  {
   "cell_type": "markdown",
   "metadata": {},
   "source": [
    "Zad.10 Wyodrębnij wiersze, dla których długość kielicha (sepal length) jest większa od średniej wartości w zbiorze."
   ]
  },
  {
   "cell_type": "code",
   "execution_count": null,
   "metadata": {},
   "outputs": [],
   "source": [
    "greater_than_avg = iris[iris['sepal width (cm)'] > iris['sepal width (cm)'].mean()]\n",
    "print(\"Count of values greater than mean: \", greater_than_avg.shape[0])"
   ]
  },
  {
   "cell_type": "markdown",
   "metadata": {},
   "source": [
    "Zad.11 Wykonaj wykres słupkowy (barplot) przedstawiający średnią długość płatków dla każdej klasy kwiatu."
   ]
  },
  {
   "cell_type": "code",
   "execution_count": null,
   "metadata": {},
   "outputs": [],
   "source": [
    "iris.groupby('target').mean().plot(kind='bar', y='petal length (cm)', ylabel='Average petal length', xlabel='Species')\n",
    "plt.title('Average petal length')\n",
    "plt.show()"
   ]
  }
 ],
 "metadata": {
  "kernelspec": {
   "display_name": "base",
   "language": "python",
   "name": "python3"
  },
  "language_info": {
   "codemirror_mode": {
    "name": "ipython",
    "version": 3
   },
   "file_extension": ".py",
   "mimetype": "text/x-python",
   "name": "python",
   "nbconvert_exporter": "python",
   "pygments_lexer": "ipython3",
   "version": "3.9.18"
  }
 },
 "nbformat": 4,
 "nbformat_minor": 2
}

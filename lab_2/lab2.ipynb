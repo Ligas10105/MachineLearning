{
 "cells": [
  {
   "cell_type": "markdown",
   "metadata": {},
   "source": [
    "Import potrzebnych bibliotek:"
   ]
  },
  {
   "cell_type": "code",
   "execution_count": null,
   "metadata": {},
   "outputs": [],
   "source": [
    "import csv\n",
    "import math\n",
    "import numpy as np\n",
    "from matplotlib import pyplot as plt"
   ]
  },
  {
   "cell_type": "markdown",
   "metadata": {},
   "source": [
    "Wczytanie danych:"
   ]
  },
  {
   "cell_type": "code",
   "execution_count": null,
   "metadata": {},
   "outputs": [],
   "source": [
    "with open('./measurements.csv', 'r') as f:\n",
    "    csvreader = csv.reader(f, delimiter=',')\n",
    "    data = [row for row in csvreader]\n",
    "    data = np.array(data, dtype=np.float32)"
   ]
  },
  {
   "cell_type": "code",
   "execution_count": null,
   "metadata": {},
   "outputs": [],
   "source": [
    "plt.plot(data[:, 1])"
   ]
  },
  {
   "cell_type": "markdown",
   "metadata": {},
   "source": [
    "Wpisanie danych do zmiennych"
   ]
  },
  {
   "cell_type": "code",
   "execution_count": null,
   "metadata": {},
   "outputs": [],
   "source": [
    "x = data[:, 0]\n",
    "y = data[:, 1]"
   ]
  },
  {
   "cell_type": "markdown",
   "metadata": {},
   "source": [
    "Definicje funkcji:"
   ]
  },
  {
   "cell_type": "code",
   "execution_count": null,
   "metadata": {},
   "outputs": [],
   "source": [
    "\n",
    "def h_fun(x, theta_0, theta_1):\n",
    "    '''\n",
    "    :param x: ndarray o wymiarze ilości przykładów\n",
    "    :param theta_0: parametr wolny modelu regresji liniowej jednej zmiennej\n",
    "    :param theta_1: parametr przy xi modelu regresji liniowej jednej zmiennej\n",
    "    :return: ndarray o wymiarze takim samym jak x, który zawiera wartości f. regresji liniowej dla podanych wag\n",
    "    '''\n",
    "    return theta_0+theta_1*x\n",
    "\n",
    "def calculate_cost(x, y, theta_0, theta_1):\n",
    "    '''\n",
    "    :param x: ndarray o wymiarze ilości przykładów\n",
    "    :param y: ndarray z wartościami referencyjnymi o wymiarze takim jak x\n",
    "    :param theta_0: parametr wolny modelu regresji liniowej jednej zmiennej\n",
    "    :param theta_1: parametr przy xi modelu regresji liniowej jednej zmiennej\n",
    "    :return: wartość funkcji kosztu dla podanych paramterów modelu\n",
    "    '''\n",
    "\n",
    "    m = len(x)\n",
    "    cost = (1/(2*m))*np.sum((h_fun(x, theta_0, theta_1) - y)**2)\n",
    "    return cost\n",
    "\n",
    "eps = 1e-5  # akceptowalna różnica dla kolejnych wartości funkcji kosztu \n",
    "alpha = 0.001  # learning rate\n",
    "theta_0 = 0  # - wartości początkowe parametrów modelu\n",
    "theta_1 = 0\n",
    "\n",
    "# Obliczenie wartości funkcji kosztu dla początkowych wag\n",
    "print(\"Funkcja kosztu na początku:\", calculate_cost(x, y, theta_0, theta_1))\n",
    "def plot(x,y,theta_0,theta_1, title):\n",
    "    # Tworzenie wykresu\n",
    "    plt.scatter(x, y, color=\"blue\", label=\"y (prawdziwe wartości)\")\n",
    "    plt.plot(x, h_fun(x, theta_0, theta_1), color=\"green\", label=\"h (przewidywania)\")\n",
    "    plt.xlabel('x')\n",
    "    plt.ylabel('y')\n",
    "    plt.legend()\n",
    "    plt.title(title)\n",
    "    plt.show()\n",
    "\n",
    "plot(x,y,theta_0,theta_1, \"Regresja liniowa - początkowy model\")"
   ]
  },
  {
   "cell_type": "code",
   "execution_count": null,
   "metadata": {},
   "outputs": [],
   "source": [
    "def find_gradient(eps,x, y, theta_0, theta_1):\n",
    "    m = len(x)\n",
    "    cost = calculate_cost(x, y, theta_0, theta_1)\n",
    "    prev_cost = float('inf')\n",
    "    while(abs(prev_cost - cost) > eps):\n",
    "        gradient_theta_0 = (1/m)*np.sum(h_fun(x,theta_0,theta_1)-y)\n",
    "        gradient_theta_1 = (1/m) * np.sum((h_fun(x, theta_0, theta_1) - y) * x)\n",
    "\n",
    "    \n",
    "        # Aktualizacja\n",
    "        theta_0 = theta_0 - alpha * gradient_theta_0\n",
    "        theta_1 = theta_1 - alpha * gradient_theta_1\n",
    "\n",
    "        prev_cost = cost\n",
    "        cost = calculate_cost(x, y, theta_0, theta_1)\n",
    "        return theta_0,theta_1\n",
    "\n",
    "   \n",
    "theta_0,theta_1 = find_gradient(eps,x, y, theta_0, theta_1)\n",
    "\n",
    "# Tworzenie wykresu\n",
    "plot(x,y,theta_0,theta_1, \"Regresja liniowa - model po optymalizacji\")\n",
    "\n",
    "print(f\"theta 0: {theta_0} \")\n",
    "print(f\"theta 1: {theta_1} \")\n",
    "\n",
    "cost = calculate_cost(x, y, theta_0, theta_1)\n",
    "print(f'cost value: {cost}')"
   ]
  },
  {
   "cell_type": "markdown",
   "metadata": {},
   "source": [
    "Regresja liniowa wielu zmiennych"
   ]
  },
  {
   "cell_type": "code",
   "execution_count": null,
   "metadata": {},
   "outputs": [],
   "source": [
    "X = np.vstack([np.ones(x.shape), x])\n",
    "y.shape = [1, -1]\n",
    "y.shape = (1, 100)\n",
    "X.shape = (2, 100)\n",
    "\n",
    "def h_fun(X, theta):\n",
    "    '''\n",
    "    :param X: ndarray postaci (n+1, m).\n",
    "    :param theta: macierz parametrów do optymalizacji postaci (n+1, 1)\n",
    "    :return: \n",
    "    '''\n",
    "    return np.dot(theta.T, X)\n",
    " \n",
    "def calculate_cost(X, y, theta):\n",
    "    '''\n",
    "    :param X: ndarray postaci (n+1, m).\n",
    "    :param y: ndarray z wartościami referencyjnymi o wymiarze (1, m)\n",
    "    :param theta: macierz parametrów do optymalizacji postaci (n+1, 1)\n",
    "    :return: wartość f. kosztu\n",
    "    '''\n",
    "    m = y.shape[1]\n",
    "\n",
    "    cost = (1/(2*m))*np.sum((h_fun(X,theta)-y)**2)\n",
    "    return cost\n",
    "\n",
    "theta = np.array([[0], [0]])\n",
    "\n",
    "def find_gradient(eps,X, y, theta, alpha):\n",
    "    \n",
    "    m = y.shape[1]\n",
    "    cost = calculate_cost(X, y, theta)\n",
    "    prev_cost = float('inf')\n",
    "\n",
    "    while(abs(prev_cost - cost) > eps):\n",
    "        gradient_theta = (1/m)*np.dot(X,(h_fun(X,theta)-y).T)\n",
    "    \n",
    "        theta = theta - alpha * gradient_theta\n",
    "\n",
    "\n",
    "        prev_cost = cost\n",
    "        cost = calculate_cost(X, y, theta)\n",
    "        return theta\n",
    "\n",
    "theta_opt = find_gradient(eps,X, y, theta, alpha)\n",
    "print(\"Optymalne wartości theta:\", theta_opt)"
   ]
  },
  {
   "cell_type": "markdown",
   "metadata": {},
   "source": [
    "Dane housing"
   ]
  },
  {
   "cell_type": "code",
   "execution_count": null,
   "metadata": {},
   "outputs": [],
   "source": [
    "with open('./housing.txt', 'r') as f:\n",
    "    csvreader = csv.reader(f, delimiter=',')\n",
    "    data2 = [row for row in csvreader]\n",
    "    data2 = np.array(data2, dtype=np.float32)\n",
    "    y = data2[:, 2]\n",
    "    y.shape = [1, y.shape[0]]\n",
    "    X = data2[:, 0:2]\n",
    "    X = np.concatenate([np.ones((X.shape[0], 1)), X], axis=1).T"
   ]
  },
  {
   "cell_type": "markdown",
   "metadata": {},
   "source": [
    "Ze względu na różne zakresy poszczególnych cech i wartości, warto przeskalować wczytane dane."
   ]
  },
  {
   "cell_type": "code",
   "execution_count": null,
   "metadata": {},
   "outputs": [],
   "source": [
    "y_scale = y.max()\n",
    "y = y / y_scale\n",
    "\n",
    "X_scale = X.max(axis=1)\n",
    "X_scale.shape = [-1, 1]\n",
    "X = X / X_scale"
   ]
  },
  {
   "cell_type": "code",
   "execution_count": null,
   "metadata": {},
   "outputs": [],
   "source": [
    "# Wczytanie danych z pliku housing.txt\n",
    "with open('./housing.txt', 'r') as f:\n",
    "    csvreader = csv.reader(f, delimiter=',')\n",
    "    data2 = [row for row in csvreader]\n",
    "    data2 = np.array(data2, dtype=np.float32)\n",
    "\n",
    "# Przygotowanie macierzy cech X i wyników y\n",
    "y = data2[:, 2]  # Cena nieruchomości\n",
    "y.shape = (1, y.shape[0])  # Konwersja do macierzy (1, m)\n",
    "\n",
    "X = data2[:, 0:2]  # Liczba pokoi + powierzchnia\n",
    "X = np.concatenate([np.ones((X.shape[0], 1)), X], axis=1).T  # Dodanie biasu i transpozycja\n",
    "\n",
    "# Normalizacja cech\n",
    "y_scale = y.max()\n",
    "y = y / y_scale  # Skalowanie y\n",
    "\n",
    "X_scale = X.max(axis=1).reshape(-1, 1)  # Maksymalne wartości dla każdej cechy\n",
    "X = X / X_scale  # Skalowanie X\n",
    "\n",
    "# Definicja funkcji regresji liniowej\n",
    "def h_fun(X, theta):\n",
    "    \"\"\" Oblicza wartości regresji liniowej \"\"\"\n",
    "    return np.dot(theta.T, X)  # Mnożenie macierzowe\n",
    "\n",
    "# Definicja funkcji kosztu\n",
    "def calculate_cost(X, y, theta):\n",
    "    \"\"\" Oblicza wartość funkcji kosztu J(theta) \"\"\"\n",
    "    m = y.shape[1]\n",
    "    cost = (1 / (2 * m)) * np.sum((h_fun(X, theta) - y) ** 2)\n",
    "    return cost\n",
    "\n",
    "# Definicja funkcji gradientu prostego\n",
    "def find_gradient(eps, X, y, theta, alpha):\n",
    "    \"\"\" Implementacja algorytmu gradientu prostego \"\"\"\n",
    "    m = y.shape[1]\n",
    "    cost = calculate_cost(X, y, theta)\n",
    "    prev_cost = float('inf')\n",
    "\n",
    "    while abs(prev_cost - cost) > eps:\n",
    "        gradient_theta = (1/m) * np.dot(X, (h_fun(X, theta) - y).T)\n",
    "        theta = theta - alpha * gradient_theta  # Aktualizacja wag\n",
    "        prev_cost = cost\n",
    "        cost = calculate_cost(X, y, theta)\n",
    "\n",
    "    return theta\n",
    "\n",
    "# Inicjalizacja parametrów modelu\n",
    "theta = np.zeros((X.shape[0], 1))  # Wektor theta o wymiarze (n+1, 1)\n",
    "eps = 1e-5  # Warunek stopu dla gradientu\n",
    "alpha = 0.001  # Learning rate\n",
    "\n",
    "# Trenowanie modelu\n",
    "theta_opt = find_gradient(eps, X, y, theta, alpha)\n",
    "\n",
    "# Przewidywanie ceny dla przykładowej nieruchomości\n",
    "example = np.array([[1, 1300, 4]]).T  # Przykładowe dane (bias, powierzchnia, pokoje)\n",
    "h_example = (theta_opt.T @ (example / X_scale)) * y_scale  # Przewidywana cena\n",
    "\n",
    "# Wyniki końcowe\n",
    "print(f\"Optymalne wartości theta:\\n{theta_opt}\")\n",
    "print(f\"Koszt nieruchomości o pow. {example[1][0]} z l. pok. {example[2][0]} oszacowany na {h_example[0][0]:.2f}\")"
   ]
  },
  {
   "cell_type": "markdown",
   "metadata": {},
   "source": [
    "Regresja wielomianowa"
   ]
  },
  {
   "cell_type": "code",
   "execution_count": null,
   "metadata": {},
   "outputs": [],
   "source": [
    "with open('./measurements.csv', 'r') as f:  \n",
    "    csvreader = csv.reader(f, delimiter=',')\n",
    "    data = [row for row in csvreader]\n",
    "    data = np.array(data, dtype=np.float32)\n",
    "\n",
    "#  Przygotowanie macierzy cech X i wyników y\n",
    "y = data[:, 1]  \n",
    "y.shape = (1, y.shape[0])  \n",
    "\n",
    "x = data[:, 0]  \n",
    "X = np.vstack([np.ones(x.shape), x, x**2, x**3])  \n",
    "\n",
    "#  Normalizacja cech \n",
    "X_scale = X.max(axis=1)\n",
    "X_scale.shape = [-1, 1]\n",
    "X = X / X_scale  # Skalowanie X\n",
    "\n",
    "y.shape = [1, -1]\n",
    "y_scale = y.max()\n",
    "y = y / y_scale\n",
    "\n",
    "\n",
    "#  Inicjalizacja parametrów modelu\n",
    "eps = 1e-10\n",
    "alpha = 1e-3\n",
    "theta = np.array([[0], [0], [0], [0]])\n",
    "\n",
    "y.shape = (1, 100)\n",
    "X.shape = (4, 100)\n",
    "theta.shape = (4, 1)\n",
    "\n",
    "#  Trenowanie modelu\n",
    "theta = find_gradient(eps, X, y, theta, alpha)\n",
    "\n",
    "#  Wykres dopasowania modelu\n",
    "plt.scatter(x, y * y_scale, color=\"blue\", label=\"Dane rzeczywiste\")  # Oryginalne wartości\n",
    "\n",
    "# Obliczenie wartości przewidywanych\n",
    "X_pred = np.vstack([np.ones(x.shape), x, x**2, x**3]) / X_scale  # Normalizacja\n",
    "y_pred = h_fun(X_pred, theta) * y_scale  # Przewidywane wartości\n",
    "\n",
    "plt.plot(x, y_pred.flatten(), color=\"red\", label=\"Regresja wielomianowa\")  # Krzywa regresji\n",
    "plt.xlabel(\"x\")\n",
    "plt.ylabel(\"y\")\n",
    "plt.legend()\n",
    "plt.show()\n",
    "\n",
    "#  Wyniki końcowe\n",
    "print(f\"Optymalne wartości theta:\\n{theta}\")"
   ]
  }
 ],
 "metadata": {
  "kernelspec": {
   "display_name": "base",
   "language": "python",
   "name": "python3"
  },
  "language_info": {
   "codemirror_mode": {
    "name": "ipython",
    "version": 3
   },
   "file_extension": ".py",
   "mimetype": "text/x-python",
   "name": "python",
   "nbconvert_exporter": "python",
   "pygments_lexer": "ipython3",
   "version": "3.9.18"
  }
 },
 "nbformat": 4,
 "nbformat_minor": 2
}
